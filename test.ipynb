{
 "cells": [
  {
   "cell_type": "markdown",
   "id": "93cbcaf8",
   "metadata": {},
   "source": [
    "### Test if filter_lifestyle_experts works"
   ]
  },
  {
   "cell_type": "code",
   "execution_count": 2,
   "id": "87298316",
   "metadata": {},
   "outputs": [
    {
     "name": "stdout",
     "output_type": "stream",
     "text": [
      "c:\\Users\\admin\\Documents\\__uni\\Cal\\4-1\\CS 194-280\\mental_health_therapy\n"
     ]
    }
   ],
   "source": [
    "%pwd\n",
    "%cd .."
   ]
  },
  {
   "cell_type": "code",
   "execution_count": 16,
   "id": "d262dedf",
   "metadata": {},
   "outputs": [],
   "source": [
    "# llm_utils.py\n",
    "import os\n",
    "from pathlib import Path\n",
    "from dotenv import load_dotenv, find_dotenv\n",
    "\n",
    "from google import genai\n",
    "\n",
    "load_dotenv(find_dotenv())\n",
    "GEMINI_API_KEY = os.getenv(\"GEMINI_API_KEY\")\n",
    "# print(GEMINI_API_KEY)\n",
    "client = genai.Client(api_key=GEMINI_API_KEY)\n",
    "\n",
    "def call_gemini(prompt, model=\"gemini-1.5-flash-8b\"):\n",
    "    response = client.models.generate_content(\n",
    "        model=model, contents=prompt\n",
    "    )\n",
    "    return response.text\n",
    "\n",
    "def filter_lifestyle_experts(chat_history, lifestyle_expert_list):\n",
    "    prompt = f\"\"\"Does the following conversation mention or imply [{', '.join(lifestyle_expert_list)}]. Reply \"Yes\" or \"No\" for each topic in the following format (replacing name of agent with the element in the list):\n",
    "    name of agent 1: Yes\n",
    "    name of agent 2: No\n",
    "    \n",
    "    Conversation:\n",
    "    {chat_history}\"\"\"\n",
    "    response = call_gemini(prompt)\n",
    "    result = response.split(\"\\n\")[:-1]\n",
    "    return result\n",
    "    "
   ]
  },
  {
   "cell_type": "code",
   "execution_count": 17,
   "id": "425fc602",
   "metadata": {},
   "outputs": [
    {
     "name": "stdout",
     "output_type": "stream",
     "text": [
      "['work/study: Yes', 'exercise: No', 'relationships: No']\n"
     ]
    }
   ],
   "source": [
    "# test case\n",
    "chat = \"I am struggling with my studies and feel tired.\"\n",
    "experts = [\"work/study\", \"exercise\", \"relationships\"]\n",
    "result = filter_lifestyle_experts(chat, experts)\n",
    "print(result)"
   ]
  },
  {
   "cell_type": "markdown",
   "id": "91a4e6b3",
   "metadata": {},
   "source": [
    "### Categories that passes filter applies to experts"
   ]
  },
  {
   "cell_type": "code",
   "execution_count": 28,
   "id": "8e1b3f1a",
   "metadata": {},
   "outputs": [],
   "source": [
    "from crewai import Agent, Task, Crew\n",
    "import os\n",
    "\n",
    "therapy_agent = Agent(\n",
    "    role=\"Conversational Therapy Agent\",\n",
    "    goal=\"Provide supportive, evidence-based therapeutic conversations\",\n",
    "    backstory=\"Trained on therapy dialogues, and skilled in CBT and motivational interviewing\",\n",
    "    llm=\"gemini/gemini-1.5-flash-8b\",  # or your preferred model,\n",
    "    verbose=True\n",
    "\n",
    ")\n",
    "\n",
    "workstudy_agent = Agent(\n",
    "    role=\"Work, study, occupation expert\",\n",
    "    goal=\"Provide detailed feedback to the patient's struggles and analyze pain points, and discuss what the patient can do going forward. Focus on building good long term habits and provide actionable steps.\",\n",
    "    backstory=\"You are an expert psychologist on good work ethics. You are in charge of distilling this knowledge to the patient if he struggles with such struggles.\",\n",
    "    llm=\"gemini/gemini-1.5-flash-8b\",  # or your preferred model\n",
    "    verbose=True\n",
    ")\n",
    "\n",
    "exercise_agent = Agent(\n",
    "    role=\"Physical Exercise Expert\",\n",
    "    goal=\"Provide advice and feedback only when the patient discusses exercise, physical activity, or related struggles.\",\n",
    "    backstory=\"You are a specialist in physical wellbeing. Only intervene if the conversation is relevant to your domain.\",\n",
    "    llm=\"gemini/gemini-1.5-flash-8b\",\n",
    "    verbose=True\n",
    ")\n",
    "\n",
    "relationship_agent = Agent(\n",
    "    role=\"Relationship and Social Connection Expert\",\n",
    "    goal=\"Offer insights and support when the patient discusses relationships, social interactions, or interpersonal challenges. Help the patient build healthy communication skills, navigate conflicts, and strengthen supportive connections.\",\n",
    "    backstory=\"You are a psychologist specializing in relationships, social dynamics, and emotional intelligence. You provide guidance only when the patient brings up issues related to family, friends, romantic partners, or social situations.\",\n",
    "    llm=\"gemini/gemini-1.5-flash-8b\",\n",
    "    verbose=True\n",
    ")\n"
   ]
  },
  {
   "cell_type": "code",
   "execution_count": 25,
   "id": "a7dcc97f",
   "metadata": {},
   "outputs": [],
   "source": [
    "# Map agent names to agent objects\n",
    "agent_map = {\n",
    "    \"work/study\": workstudy_agent,\n",
    "    \"exercise\": exercise_agent,\n",
    "    \"relationships\": relationship_agent,\n",
    "}\n",
    "\n",
    "# Parse result and select agents\n",
    "relevant_agents = []\n",
    "relevant_tasks = []\n",
    "\n",
    "for res in result:\n",
    "    topic, verdict = res.split(\":\")\n",
    "    topic = topic.strip()\n",
    "    verdict = verdict.strip().lower()\n",
    "    if verdict == \"yes\":\n",
    "        agent = agent_map[topic]\n",
    "        relevant_agents.append(agent)\n",
    "        # Create a task for this agent\n",
    "        task = Task(\n",
    "            description=f\"Analyze and provide support for the following user message: '{chat}'\",\n",
    "            expected_output=\"A concise, actionable response tailored to the user's concern.\",\n",
    "            agent=agent\n",
    "        )\n",
    "        relevant_tasks.append(task)\n"
   ]
  },
  {
   "cell_type": "code",
   "execution_count": null,
   "id": "4d3509a4",
   "metadata": {},
   "outputs": [],
   "source": [
    "# crew = Crew(\n",
    "#     agents=relevant_agents,\n",
    "#     tasks=relevant_tasks,\n",
    "#     verbose=True\n",
    "# )\n",
    "\n",
    "# result = crew.kickoff()\n",
    "# print(result)\n"
   ]
  },
  {
   "cell_type": "code",
   "execution_count": 30,
   "id": "d1542a95",
   "metadata": {},
   "outputs": [],
   "source": [
    "# --- Create the final synthesis task ---\n",
    "# This task explicitly uses the outputs of the expert tasks as context.\n",
    "synthesis_task = Task(\n",
    "    description=f\"Review the analyses provided by the expert agents regarding the user's message: '{chat}'. \\\n",
    "                Synthesize these distinct perspectives into a single, cohesive, and supportive therapeutic response. \\\n",
    "                **Do not just list or copy the expert outputs.** Integrate their key points naturally into your own compassionate and actionable feedback.\",\n",
    "    expected_output=\"A final, integrated therapeutic response that acknowledges the user's struggles (studies, tiredness, lack of exercise) and incorporates relevant synthesized insights from the specialists.\",\n",
    "    agent=therapy_agent,\n",
    "    context=relevant_tasks  # <-- CRITICAL: This tells CrewAI to feed the outputs of expert_tasks here\n",
    ")\n"
   ]
  },
  {
   "cell_type": "code",
   "execution_count": null,
   "id": "1ca1b044",
   "metadata": {},
   "outputs": [
    {
     "name": "stdout",
     "output_type": "stream",
     "text": [
      "\n",
      "--- Kicking off the Crew ---\n"
     ]
    },
    {
     "data": {
      "text/html": [
       "<pre style=\"white-space:pre;overflow-x:auto;line-height:normal;font-family:Menlo,'DejaVu Sans Mono',consolas,'Courier New',monospace\"><span style=\"color: #008080; text-decoration-color: #008080\">╭──────────────────────────────────────────── Crew Execution Started ─────────────────────────────────────────────╮</span>\n",
       "<span style=\"color: #008080; text-decoration-color: #008080\">│</span>                                                                                                                 <span style=\"color: #008080; text-decoration-color: #008080\">│</span>\n",
       "<span style=\"color: #008080; text-decoration-color: #008080\">│</span>  <span style=\"color: #008080; text-decoration-color: #008080; font-weight: bold\">Crew Execution Started</span>                                                                                         <span style=\"color: #008080; text-decoration-color: #008080\">│</span>\n",
       "<span style=\"color: #008080; text-decoration-color: #008080\">│</span>  <span style=\"color: #c0c0c0; text-decoration-color: #c0c0c0\">Name: </span><span style=\"color: #008080; text-decoration-color: #008080\">crew</span>                                                                                                     <span style=\"color: #008080; text-decoration-color: #008080\">│</span>\n",
       "<span style=\"color: #008080; text-decoration-color: #008080\">│</span>  <span style=\"color: #c0c0c0; text-decoration-color: #c0c0c0\">ID: </span><span style=\"color: #008080; text-decoration-color: #008080\">d0bc3c02-67b2-4fe2-9635-1a880b46e727</span>                                                                       <span style=\"color: #008080; text-decoration-color: #008080\">│</span>\n",
       "<span style=\"color: #008080; text-decoration-color: #008080\">│</span>                                                                                                                 <span style=\"color: #008080; text-decoration-color: #008080\">│</span>\n",
       "<span style=\"color: #008080; text-decoration-color: #008080\">│</span>                                                                                                                 <span style=\"color: #008080; text-decoration-color: #008080\">│</span>\n",
       "<span style=\"color: #008080; text-decoration-color: #008080\">╰─────────────────────────────────────────────────────────────────────────────────────────────────────────────────╯</span>\n",
       "</pre>\n"
      ],
      "text/plain": [
       "\u001b[36m╭─\u001b[0m\u001b[36m───────────────────────────────────────────\u001b[0m\u001b[36m Crew Execution Started \u001b[0m\u001b[36m────────────────────────────────────────────\u001b[0m\u001b[36m─╮\u001b[0m\n",
       "\u001b[36m│\u001b[0m                                                                                                                 \u001b[36m│\u001b[0m\n",
       "\u001b[36m│\u001b[0m  \u001b[1;36mCrew Execution Started\u001b[0m                                                                                         \u001b[36m│\u001b[0m\n",
       "\u001b[36m│\u001b[0m  \u001b[37mName: \u001b[0m\u001b[36mcrew\u001b[0m                                                                                                     \u001b[36m│\u001b[0m\n",
       "\u001b[36m│\u001b[0m  \u001b[37mID: \u001b[0m\u001b[36md0bc3c02-67b2-4fe2-9635-1a880b46e727\u001b[0m                                                                       \u001b[36m│\u001b[0m\n",
       "\u001b[36m│\u001b[0m                                                                                                                 \u001b[36m│\u001b[0m\n",
       "\u001b[36m│\u001b[0m                                                                                                                 \u001b[36m│\u001b[0m\n",
       "\u001b[36m╰─────────────────────────────────────────────────────────────────────────────────────────────────────────────────╯\u001b[0m\n"
      ]
     },
     "metadata": {},
     "output_type": "display_data"
    },
    {
     "data": {
      "text/html": [
       "<pre style=\"white-space:pre;overflow-x:auto;line-height:normal;font-family:Menlo,'DejaVu Sans Mono',consolas,'Courier New',monospace\">\n",
       "</pre>\n"
      ],
      "text/plain": [
       "\n"
      ]
     },
     "metadata": {},
     "output_type": "display_data"
    },
    {
     "data": {
      "text/html": [
       "<pre style=\"white-space:pre;overflow-x:auto;line-height:normal;font-family:Menlo,'DejaVu Sans Mono',consolas,'Courier New',monospace\"><span style=\"color: #008080; text-decoration-color: #008080; font-weight: bold\">🚀 Crew: crew</span>\n",
       "└── <span style=\"color: #808000; text-decoration-color: #808000; font-weight: bold\">📋 Task: 50613427-f8d9-4ecb-a59d-cbd2786b0368</span>\n",
       "    <span style=\"color: #c0c0c0; text-decoration-color: #c0c0c0\">   Status: </span><span style=\"color: #bfbf7f; text-decoration-color: #bfbf7f\">Executing Task...</span>\n",
       "</pre>\n"
      ],
      "text/plain": [
       "\u001b[1;36m🚀 Crew: \u001b[0m\u001b[1;36mcrew\u001b[0m\n",
       "└── \u001b[1;33m📋 Task: 50613427-f8d9-4ecb-a59d-cbd2786b0368\u001b[0m\n",
       "    \u001b[37m   Status: \u001b[0m\u001b[2;33mExecuting Task...\u001b[0m\n"
      ]
     },
     "metadata": {},
     "output_type": "display_data"
    },
    {
     "data": {
      "text/html": [
       "<pre style=\"white-space:pre;overflow-x:auto;line-height:normal;font-family:Menlo,'DejaVu Sans Mono',consolas,'Courier New',monospace\">\n",
       "</pre>\n"
      ],
      "text/plain": [
       "\n"
      ]
     },
     "metadata": {},
     "output_type": "display_data"
    },
    {
     "data": {
      "text/html": [
       "<pre style=\"white-space:pre;overflow-x:auto;line-height:normal;font-family:Menlo,'DejaVu Sans Mono',consolas,'Courier New',monospace\"><span style=\"color: #008080; text-decoration-color: #008080; font-weight: bold\">🚀 Crew: crew</span>\n",
       "└── <span style=\"color: #808000; text-decoration-color: #808000; font-weight: bold\">📋 Task: 50613427-f8d9-4ecb-a59d-cbd2786b0368</span>\n",
       "    <span style=\"color: #c0c0c0; text-decoration-color: #c0c0c0\">   Status: </span><span style=\"color: #bfbf7f; text-decoration-color: #bfbf7f\">Executing Task...</span>\n",
       "    └── <span style=\"color: #008000; text-decoration-color: #008000; font-weight: bold\">🤖 Agent: </span><span style=\"color: #008000; text-decoration-color: #008000\">Work, study, occupation expert</span>\n",
       "        <span style=\"color: #c0c0c0; text-decoration-color: #c0c0c0\">    Status: </span><span style=\"color: #008000; text-decoration-color: #008000; font-weight: bold\">In Progress</span>\n",
       "</pre>\n"
      ],
      "text/plain": [
       "\u001b[1;36m🚀 Crew: \u001b[0m\u001b[1;36mcrew\u001b[0m\n",
       "└── \u001b[1;33m📋 Task: 50613427-f8d9-4ecb-a59d-cbd2786b0368\u001b[0m\n",
       "    \u001b[37m   Status: \u001b[0m\u001b[2;33mExecuting Task...\u001b[0m\n",
       "    └── \u001b[1;32m🤖 Agent: \u001b[0m\u001b[32mWork, study, occupation expert\u001b[0m\n",
       "        \u001b[37m    Status: \u001b[0m\u001b[1;32mIn Progress\u001b[0m\n"
      ]
     },
     "metadata": {},
     "output_type": "display_data"
    },
    {
     "data": {
      "text/html": [
       "<pre style=\"white-space:pre;overflow-x:auto;line-height:normal;font-family:Menlo,'DejaVu Sans Mono',consolas,'Courier New',monospace\">\n",
       "</pre>\n"
      ],
      "text/plain": [
       "\n"
      ]
     },
     "metadata": {},
     "output_type": "display_data"
    },
    {
     "name": "stdout",
     "output_type": "stream",
     "text": [
      "\u001b[1m\u001b[95m# Agent:\u001b[00m \u001b[1m\u001b[92mWork, study, occupation expert\u001b[00m\n",
      "\u001b[95m## Task:\u001b[00m \u001b[92mAnalyze and provide support for the following user message: 'I am struggling with my studies and feel tired.'\u001b[00m\n",
      "\n",
      "\n",
      "\u001b[1m\u001b[95m# Agent:\u001b[00m \u001b[1m\u001b[92mWork, study, occupation expert\u001b[00m\n",
      "\u001b[95m## Final Answer:\u001b[00m \u001b[92m\n",
      "It's completely understandable to feel tired and struggle with studies.  Feeling overwhelmed is a common experience, and it's crucial to address the underlying factors contributing to this.  Let's break down some potential issues and actionable steps.\n",
      "\n",
      "**Potential Pain Points:**\n",
      "\n",
      "* **Lack of Structure/Poor Time Management:**  Are you struggling to allocate time effectively for studying, or do tasks feel overwhelming?\n",
      "* **Poor Study Habits:**  Are you using effective study techniques (e.g., active recall, spaced repetition)?  Do you get easily distracted?\n",
      "* **Underlying Medical Conditions:**  Sometimes fatigue can stem from conditions like anemia, sleep disorders, or other health issues.  It's worth considering this.\n",
      "* **Burnout/Stress:**  Is your workload manageable, or are you experiencing stress from other life areas affecting your studies?\n",
      "* **Motivation/Lack of Interest:**  Does the subject matter itself feel uninspiring?  Is there a need to re-evaluate your learning style and goals?\n",
      "\n",
      "**Actionable Steps:**\n",
      "\n",
      "1. **Assess Your Current Situation:**\n",
      "\n",
      "* **Track Your Time:**  For a week, meticulously record how you spend your time. This can highlight time sinks and areas where you might be inefficient.\n",
      "* **Identify Distractions:**  Pinpoint the factors that take away from your study time (social media, phone, noisy environment).\n",
      "* **Self-Reflection:** Journal about how you feel when studying. What triggers tiredness or disinterest? Are you setting realistic goals?\n",
      "\n",
      "2. **Improve Your Study Habits:**\n",
      "\n",
      "* **Active Recall:** Test yourself regularly instead of passively rereading materials.\n",
      "* **Spaced Repetition:** Review material at increasing intervals to reinforce memory.\n",
      "* **Pomodoro Technique:**  Work in focused bursts with short breaks to maintain concentration.\n",
      "* **Minimize Distractions:** Turn off notifications, use website blockers, or find a quiet study environment.\n",
      "* **Effective Note-Taking:** Develop a method that works for you to record and process information efficiently.  (e.g., Cornell method, mind mapping).\n",
      "\n",
      "3. **Prioritize Your Well-being:**\n",
      "\n",
      "* **Sleep Hygiene:** Ensure you get 7-9 hours of quality sleep each night.  Establish a regular sleep schedule.\n",
      "* **Nutrition:** Maintain a balanced diet to support energy levels.\n",
      "* **Exercise:** Regular physical activity can boost energy and reduce stress.\n",
      "* **Manage Stress:** Practice stress-reducing techniques like meditation, deep breathing, or yoga.\n",
      "* **Seek Support:** Don't hesitate to talk to a professor, tutor, or academic advisor for guidance and support.\n",
      "\n",
      "4. **Re-evaluate Your Goals:**\n",
      "\n",
      "* **Realistic Expectations:**  Break down large tasks into smaller, manageable steps.\n",
      "* **Identify Your Learning Style:**  Understanding how you best learn can help tailor your study strategies.\n",
      "* **Revisit Your Interests:**  If the subject matter feels uninteresting, consider if your goals are aligned with your passions. Explore alternative learning approaches if possible.\n",
      "\n",
      "5. **Consider Underlying Issues:**\n",
      "\n",
      "* **Medical Checkup:**  If fatigue persists despite changes, schedule an appointment with a doctor to rule out any underlying medical conditions.\n",
      "* **Mental Health Support:**  If stress or anxiety contribute to fatigue, consider seeking counseling or therapy.\n",
      "\n",
      "\n",
      "Remember, building good study habits takes time and effort.  Be patient with yourself, celebrate small victories, and adjust your strategies as needed.  Don't hesitate to reach out for help if you need it.  Consistency is key to long-term success.\u001b[00m\n",
      "\n",
      "\n"
     ]
    },
    {
     "data": {
      "text/html": [
       "<pre style=\"white-space:pre;overflow-x:auto;line-height:normal;font-family:Menlo,'DejaVu Sans Mono',consolas,'Courier New',monospace\"><span style=\"color: #008080; text-decoration-color: #008080; font-weight: bold\">🚀 Crew: crew</span>\n",
       "└── <span style=\"color: #808000; text-decoration-color: #808000; font-weight: bold\">📋 Task: 50613427-f8d9-4ecb-a59d-cbd2786b0368</span>\n",
       "    <span style=\"color: #c0c0c0; text-decoration-color: #c0c0c0\">   Status: </span><span style=\"color: #bfbf7f; text-decoration-color: #bfbf7f\">Executing Task...</span>\n",
       "    └── <span style=\"color: #008000; text-decoration-color: #008000; font-weight: bold\">🤖 Agent: </span><span style=\"color: #008000; text-decoration-color: #008000\">Work, study, occupation expert</span>\n",
       "        <span style=\"color: #c0c0c0; text-decoration-color: #c0c0c0\">    Status: </span><span style=\"color: #008000; text-decoration-color: #008000; font-weight: bold\">✅ Completed</span>\n",
       "</pre>\n"
      ],
      "text/plain": [
       "\u001b[1;36m🚀 Crew: \u001b[0m\u001b[1;36mcrew\u001b[0m\n",
       "└── \u001b[1;33m📋 Task: 50613427-f8d9-4ecb-a59d-cbd2786b0368\u001b[0m\n",
       "    \u001b[37m   Status: \u001b[0m\u001b[2;33mExecuting Task...\u001b[0m\n",
       "    └── \u001b[1;32m🤖 Agent: \u001b[0m\u001b[32mWork, study, occupation expert\u001b[0m\n",
       "        \u001b[37m    Status: \u001b[0m\u001b[1;32m✅ Completed\u001b[0m\n"
      ]
     },
     "metadata": {},
     "output_type": "display_data"
    },
    {
     "data": {
      "text/html": [
       "<pre style=\"white-space:pre;overflow-x:auto;line-height:normal;font-family:Menlo,'DejaVu Sans Mono',consolas,'Courier New',monospace\">\n",
       "</pre>\n"
      ],
      "text/plain": [
       "\n"
      ]
     },
     "metadata": {},
     "output_type": "display_data"
    },
    {
     "data": {
      "text/html": [
       "<pre style=\"white-space:pre;overflow-x:auto;line-height:normal;font-family:Menlo,'DejaVu Sans Mono',consolas,'Courier New',monospace\"><span style=\"color: #008080; text-decoration-color: #008080; font-weight: bold\">🚀 Crew: crew</span>\n",
       "└── <span style=\"color: #008000; text-decoration-color: #008000; font-weight: bold\">📋 Task: 50613427-f8d9-4ecb-a59d-cbd2786b0368</span>\n",
       "    <span style=\"color: #c0c0c0; text-decoration-color: #c0c0c0\">   Assigned to: </span><span style=\"color: #008000; text-decoration-color: #008000\">Work, study, occupation expert</span>\n",
       "    <span style=\"color: #c0c0c0; text-decoration-color: #c0c0c0\">   Status: </span><span style=\"color: #008000; text-decoration-color: #008000; font-weight: bold\">✅ Completed</span>\n",
       "    └── <span style=\"color: #008000; text-decoration-color: #008000; font-weight: bold\">🤖 Agent: </span><span style=\"color: #008000; text-decoration-color: #008000\">Work, study, occupation expert</span>\n",
       "        <span style=\"color: #c0c0c0; text-decoration-color: #c0c0c0\">    Status: </span><span style=\"color: #008000; text-decoration-color: #008000; font-weight: bold\">✅ Completed</span>\n",
       "</pre>\n"
      ],
      "text/plain": [
       "\u001b[1;36m🚀 Crew: \u001b[0m\u001b[1;36mcrew\u001b[0m\n",
       "└── \u001b[1;32m📋 Task: 50613427-f8d9-4ecb-a59d-cbd2786b0368\u001b[0m\n",
       "    \u001b[37m   Assigned to: \u001b[0m\u001b[32mWork, study, occupation expert\u001b[0m\n",
       "    \u001b[37m   Status: \u001b[0m\u001b[1;32m✅ Completed\u001b[0m\n",
       "    └── \u001b[1;32m🤖 Agent: \u001b[0m\u001b[32mWork, study, occupation expert\u001b[0m\n",
       "        \u001b[37m    Status: \u001b[0m\u001b[1;32m✅ Completed\u001b[0m\n"
      ]
     },
     "metadata": {},
     "output_type": "display_data"
    },
    {
     "data": {
      "text/html": [
       "<pre style=\"white-space:pre;overflow-x:auto;line-height:normal;font-family:Menlo,'DejaVu Sans Mono',consolas,'Courier New',monospace\"><span style=\"color: #008000; text-decoration-color: #008000\">╭──────────────────────────────────────────────── Task Completion ────────────────────────────────────────────────╮</span>\n",
       "<span style=\"color: #008000; text-decoration-color: #008000\">│</span>                                                                                                                 <span style=\"color: #008000; text-decoration-color: #008000\">│</span>\n",
       "<span style=\"color: #008000; text-decoration-color: #008000\">│</span>  <span style=\"color: #008000; text-decoration-color: #008000; font-weight: bold\">Task Completed</span>                                                                                                 <span style=\"color: #008000; text-decoration-color: #008000\">│</span>\n",
       "<span style=\"color: #008000; text-decoration-color: #008000\">│</span>  <span style=\"color: #c0c0c0; text-decoration-color: #c0c0c0\">Name: </span><span style=\"color: #008000; text-decoration-color: #008000\">50613427-f8d9-4ecb-a59d-cbd2786b0368</span>                                                                     <span style=\"color: #008000; text-decoration-color: #008000\">│</span>\n",
       "<span style=\"color: #008000; text-decoration-color: #008000\">│</span>  <span style=\"color: #c0c0c0; text-decoration-color: #c0c0c0\">Agent: </span><span style=\"color: #008000; text-decoration-color: #008000\">Work, study, occupation expert</span>                                                                          <span style=\"color: #008000; text-decoration-color: #008000\">│</span>\n",
       "<span style=\"color: #008000; text-decoration-color: #008000\">│</span>                                                                                                                 <span style=\"color: #008000; text-decoration-color: #008000\">│</span>\n",
       "<span style=\"color: #008000; text-decoration-color: #008000\">│</span>                                                                                                                 <span style=\"color: #008000; text-decoration-color: #008000\">│</span>\n",
       "<span style=\"color: #008000; text-decoration-color: #008000\">╰─────────────────────────────────────────────────────────────────────────────────────────────────────────────────╯</span>\n",
       "</pre>\n"
      ],
      "text/plain": [
       "\u001b[32m╭─\u001b[0m\u001b[32m───────────────────────────────────────────────\u001b[0m\u001b[32m Task Completion \u001b[0m\u001b[32m───────────────────────────────────────────────\u001b[0m\u001b[32m─╮\u001b[0m\n",
       "\u001b[32m│\u001b[0m                                                                                                                 \u001b[32m│\u001b[0m\n",
       "\u001b[32m│\u001b[0m  \u001b[1;32mTask Completed\u001b[0m                                                                                                 \u001b[32m│\u001b[0m\n",
       "\u001b[32m│\u001b[0m  \u001b[37mName: \u001b[0m\u001b[32m50613427-f8d9-4ecb-a59d-cbd2786b0368\u001b[0m                                                                     \u001b[32m│\u001b[0m\n",
       "\u001b[32m│\u001b[0m  \u001b[37mAgent: \u001b[0m\u001b[32mWork, study, occupation expert\u001b[0m                                                                          \u001b[32m│\u001b[0m\n",
       "\u001b[32m│\u001b[0m                                                                                                                 \u001b[32m│\u001b[0m\n",
       "\u001b[32m│\u001b[0m                                                                                                                 \u001b[32m│\u001b[0m\n",
       "\u001b[32m╰─────────────────────────────────────────────────────────────────────────────────────────────────────────────────╯\u001b[0m\n"
      ]
     },
     "metadata": {},
     "output_type": "display_data"
    },
    {
     "data": {
      "text/html": [
       "<pre style=\"white-space:pre;overflow-x:auto;line-height:normal;font-family:Menlo,'DejaVu Sans Mono',consolas,'Courier New',monospace\">\n",
       "</pre>\n"
      ],
      "text/plain": [
       "\n"
      ]
     },
     "metadata": {},
     "output_type": "display_data"
    },
    {
     "data": {
      "text/html": [
       "<pre style=\"white-space:pre;overflow-x:auto;line-height:normal;font-family:Menlo,'DejaVu Sans Mono',consolas,'Courier New',monospace\"><span style=\"color: #008080; text-decoration-color: #008080; font-weight: bold\">🚀 Crew: crew</span>\n",
       "├── <span style=\"color: #008000; text-decoration-color: #008000; font-weight: bold\">📋 Task: 50613427-f8d9-4ecb-a59d-cbd2786b0368</span>\n",
       "│   <span style=\"color: #c0c0c0; text-decoration-color: #c0c0c0\">   Assigned to: </span><span style=\"color: #008000; text-decoration-color: #008000\">Work, study, occupation expert</span>\n",
       "│   <span style=\"color: #c0c0c0; text-decoration-color: #c0c0c0\">   Status: </span><span style=\"color: #008000; text-decoration-color: #008000; font-weight: bold\">✅ Completed</span>\n",
       "│   └── <span style=\"color: #008000; text-decoration-color: #008000; font-weight: bold\">🤖 Agent: </span><span style=\"color: #008000; text-decoration-color: #008000\">Work, study, occupation expert</span>\n",
       "│       <span style=\"color: #c0c0c0; text-decoration-color: #c0c0c0\">    Status: </span><span style=\"color: #008000; text-decoration-color: #008000; font-weight: bold\">✅ Completed</span>\n",
       "└── <span style=\"color: #808000; text-decoration-color: #808000; font-weight: bold\">📋 Task: 8f22663a-eb3e-41e2-beb3-df67448d3b10</span>\n",
       "    <span style=\"color: #c0c0c0; text-decoration-color: #c0c0c0\">   Status: </span><span style=\"color: #bfbf7f; text-decoration-color: #bfbf7f\">Executing Task...</span>\n",
       "</pre>\n"
      ],
      "text/plain": [
       "\u001b[1;36m🚀 Crew: \u001b[0m\u001b[1;36mcrew\u001b[0m\n",
       "├── \u001b[1;32m📋 Task: 50613427-f8d9-4ecb-a59d-cbd2786b0368\u001b[0m\n",
       "│   \u001b[37m   Assigned to: \u001b[0m\u001b[32mWork, study, occupation expert\u001b[0m\n",
       "│   \u001b[37m   Status: \u001b[0m\u001b[1;32m✅ Completed\u001b[0m\n",
       "│   └── \u001b[1;32m🤖 Agent: \u001b[0m\u001b[32mWork, study, occupation expert\u001b[0m\n",
       "│       \u001b[37m    Status: \u001b[0m\u001b[1;32m✅ Completed\u001b[0m\n",
       "└── \u001b[1;33m📋 Task: 8f22663a-eb3e-41e2-beb3-df67448d3b10\u001b[0m\n",
       "    \u001b[37m   Status: \u001b[0m\u001b[2;33mExecuting Task...\u001b[0m\n"
      ]
     },
     "metadata": {},
     "output_type": "display_data"
    },
    {
     "data": {
      "text/html": [
       "<pre style=\"white-space:pre;overflow-x:auto;line-height:normal;font-family:Menlo,'DejaVu Sans Mono',consolas,'Courier New',monospace\">\n",
       "</pre>\n"
      ],
      "text/plain": [
       "\n"
      ]
     },
     "metadata": {},
     "output_type": "display_data"
    },
    {
     "data": {
      "text/html": [
       "<pre style=\"white-space:pre;overflow-x:auto;line-height:normal;font-family:Menlo,'DejaVu Sans Mono',consolas,'Courier New',monospace\"><span style=\"color: #008080; text-decoration-color: #008080; font-weight: bold\">🚀 Crew: crew</span>\n",
       "├── <span style=\"color: #008000; text-decoration-color: #008000; font-weight: bold\">📋 Task: 50613427-f8d9-4ecb-a59d-cbd2786b0368</span>\n",
       "│   <span style=\"color: #c0c0c0; text-decoration-color: #c0c0c0\">   Assigned to: </span><span style=\"color: #008000; text-decoration-color: #008000\">Work, study, occupation expert</span>\n",
       "│   <span style=\"color: #c0c0c0; text-decoration-color: #c0c0c0\">   Status: </span><span style=\"color: #008000; text-decoration-color: #008000; font-weight: bold\">✅ Completed</span>\n",
       "│   └── <span style=\"color: #008000; text-decoration-color: #008000; font-weight: bold\">🤖 Agent: </span><span style=\"color: #008000; text-decoration-color: #008000\">Work, study, occupation expert</span>\n",
       "│       <span style=\"color: #c0c0c0; text-decoration-color: #c0c0c0\">    Status: </span><span style=\"color: #008000; text-decoration-color: #008000; font-weight: bold\">✅ Completed</span>\n",
       "└── <span style=\"color: #808000; text-decoration-color: #808000; font-weight: bold\">📋 Task: 8f22663a-eb3e-41e2-beb3-df67448d3b10</span>\n",
       "    <span style=\"color: #c0c0c0; text-decoration-color: #c0c0c0\">   Status: </span><span style=\"color: #bfbf7f; text-decoration-color: #bfbf7f\">Executing Task...</span>\n",
       "    └── <span style=\"color: #008000; text-decoration-color: #008000; font-weight: bold\">🤖 Agent: </span><span style=\"color: #008000; text-decoration-color: #008000\">Conversational Therapy Agent</span>\n",
       "        <span style=\"color: #c0c0c0; text-decoration-color: #c0c0c0\">    Status: </span><span style=\"color: #008000; text-decoration-color: #008000; font-weight: bold\">In Progress</span>\n",
       "</pre>\n"
      ],
      "text/plain": [
       "\u001b[1;36m🚀 Crew: \u001b[0m\u001b[1;36mcrew\u001b[0m\n",
       "├── \u001b[1;32m📋 Task: 50613427-f8d9-4ecb-a59d-cbd2786b0368\u001b[0m\n",
       "│   \u001b[37m   Assigned to: \u001b[0m\u001b[32mWork, study, occupation expert\u001b[0m\n",
       "│   \u001b[37m   Status: \u001b[0m\u001b[1;32m✅ Completed\u001b[0m\n",
       "│   └── \u001b[1;32m🤖 Agent: \u001b[0m\u001b[32mWork, study, occupation expert\u001b[0m\n",
       "│       \u001b[37m    Status: \u001b[0m\u001b[1;32m✅ Completed\u001b[0m\n",
       "└── \u001b[1;33m📋 Task: 8f22663a-eb3e-41e2-beb3-df67448d3b10\u001b[0m\n",
       "    \u001b[37m   Status: \u001b[0m\u001b[2;33mExecuting Task...\u001b[0m\n",
       "    └── \u001b[1;32m🤖 Agent: \u001b[0m\u001b[32mConversational Therapy Agent\u001b[0m\n",
       "        \u001b[37m    Status: \u001b[0m\u001b[1;32mIn Progress\u001b[0m\n"
      ]
     },
     "metadata": {},
     "output_type": "display_data"
    },
    {
     "data": {
      "text/html": [
       "<pre style=\"white-space:pre;overflow-x:auto;line-height:normal;font-family:Menlo,'DejaVu Sans Mono',consolas,'Courier New',monospace\">\n",
       "</pre>\n"
      ],
      "text/plain": [
       "\n"
      ]
     },
     "metadata": {},
     "output_type": "display_data"
    },
    {
     "name": "stdout",
     "output_type": "stream",
     "text": [
      "\u001b[1m\u001b[95m# Agent:\u001b[00m \u001b[1m\u001b[92mConversational Therapy Agent\u001b[00m\n",
      "\u001b[95m## Task:\u001b[00m \u001b[92mReview the analyses provided by the expert agents regarding the user's message: 'I am struggling with my studies and feel tired.'.                 Synthesize these distinct perspectives into a single, cohesive, and supportive therapeutic response.                 **Do not just list or copy the expert outputs.** Integrate their key points naturally into your own compassionate and actionable feedback.\u001b[00m\n",
      "\n",
      "\n",
      "\u001b[1m\u001b[95m# Agent:\u001b[00m \u001b[1m\u001b[92mConversational Therapy Agent\u001b[00m\n",
      "\u001b[95m## Final Answer:\u001b[00m \u001b[92m\n",
      "\"It's completely understandable that you're feeling tired and struggling with your studies.  Feeling overwhelmed is a very common experience, and it's important to address the contributing factors.  Let's work together to break down these challenges into manageable steps.\n",
      "\n",
      "First, let's explore how you're spending your time.  It sounds like you might be feeling overwhelmed with the workload, so  tracking how you spend your time for a week can help you see where you might be losing efficiency.  What's your typical daily schedule, and what activities are stealing your focus or energy?  Are you setting realistic goals? Identifying the specific distractions, like social media or a noisy environment, is also key.  Journaling about your feelings when studying can help you understand what triggers feelings of tiredness or disinterest.  By understanding your patterns, you can start to implement adjustments.\n",
      "\n",
      "Next, let's examine your study habits.  Using effective techniques, like active recall where you test yourself, and spaced repetition, can significantly improve your retention.  The Pomodoro Technique, working in focused bursts with short breaks, can also be very helpful.  Are you familiar with these techniques or would you like to explore them further? Have you considered finding a quiet study environment to minimize distractions?  We could also explore effective note-taking strategies like the Cornell method or mind mapping, tailored to your specific learning style.\n",
      "\n",
      "Beyond study habits, your overall well-being is crucial.  Getting enough sleep, ideally 7-9 hours, and eating a balanced diet are vital for maintaining energy levels.  Physical exercise can also play a significant role in reducing stress and boosting energy. Are you getting enough exercise?  Are you incorporating strategies to manage stress, such as meditation or deep breathing, into your daily routine?\n",
      "\n",
      "Finally, let's look at your goals and motivation. Are you feeling overwhelmed by the size of your assignments or projects?  Breaking down large tasks into smaller, more manageable steps can make them less daunting.  If the subject matter itself feels uninspiring, it might be helpful to re-evaluate your learning style.  Are you studying in a way that best suits your learning style?  We can also look into whether there is a possible mismatch between your interests and the material.  Remember, consistent effort and self-reflection are key to navigating these challenges.\n",
      "\n",
      "Is there anything specific you'd like to discuss further, or any particular aspect of your study situation that feels particularly challenging right now?  Talking about it can help us identify the most effective next steps.\"\u001b[00m\n",
      "\n",
      "\n"
     ]
    },
    {
     "data": {
      "text/html": [
       "<pre style=\"white-space:pre;overflow-x:auto;line-height:normal;font-family:Menlo,'DejaVu Sans Mono',consolas,'Courier New',monospace\"><span style=\"color: #008080; text-decoration-color: #008080; font-weight: bold\">🚀 Crew: crew</span>\n",
       "├── <span style=\"color: #008000; text-decoration-color: #008000; font-weight: bold\">📋 Task: 50613427-f8d9-4ecb-a59d-cbd2786b0368</span>\n",
       "│   <span style=\"color: #c0c0c0; text-decoration-color: #c0c0c0\">   Assigned to: </span><span style=\"color: #008000; text-decoration-color: #008000\">Work, study, occupation expert</span>\n",
       "│   <span style=\"color: #c0c0c0; text-decoration-color: #c0c0c0\">   Status: </span><span style=\"color: #008000; text-decoration-color: #008000; font-weight: bold\">✅ Completed</span>\n",
       "│   └── <span style=\"color: #008000; text-decoration-color: #008000; font-weight: bold\">🤖 Agent: </span><span style=\"color: #008000; text-decoration-color: #008000\">Work, study, occupation expert</span>\n",
       "│       <span style=\"color: #c0c0c0; text-decoration-color: #c0c0c0\">    Status: </span><span style=\"color: #008000; text-decoration-color: #008000; font-weight: bold\">✅ Completed</span>\n",
       "└── <span style=\"color: #808000; text-decoration-color: #808000; font-weight: bold\">📋 Task: 8f22663a-eb3e-41e2-beb3-df67448d3b10</span>\n",
       "    <span style=\"color: #c0c0c0; text-decoration-color: #c0c0c0\">   Status: </span><span style=\"color: #bfbf7f; text-decoration-color: #bfbf7f\">Executing Task...</span>\n",
       "    └── <span style=\"color: #008000; text-decoration-color: #008000; font-weight: bold\">🤖 Agent: </span><span style=\"color: #008000; text-decoration-color: #008000\">Conversational Therapy Agent</span>\n",
       "        <span style=\"color: #c0c0c0; text-decoration-color: #c0c0c0\">    Status: </span><span style=\"color: #008000; text-decoration-color: #008000; font-weight: bold\">✅ Completed</span>\n",
       "</pre>\n"
      ],
      "text/plain": [
       "\u001b[1;36m🚀 Crew: \u001b[0m\u001b[1;36mcrew\u001b[0m\n",
       "├── \u001b[1;32m📋 Task: 50613427-f8d9-4ecb-a59d-cbd2786b0368\u001b[0m\n",
       "│   \u001b[37m   Assigned to: \u001b[0m\u001b[32mWork, study, occupation expert\u001b[0m\n",
       "│   \u001b[37m   Status: \u001b[0m\u001b[1;32m✅ Completed\u001b[0m\n",
       "│   └── \u001b[1;32m🤖 Agent: \u001b[0m\u001b[32mWork, study, occupation expert\u001b[0m\n",
       "│       \u001b[37m    Status: \u001b[0m\u001b[1;32m✅ Completed\u001b[0m\n",
       "└── \u001b[1;33m📋 Task: 8f22663a-eb3e-41e2-beb3-df67448d3b10\u001b[0m\n",
       "    \u001b[37m   Status: \u001b[0m\u001b[2;33mExecuting Task...\u001b[0m\n",
       "    └── \u001b[1;32m🤖 Agent: \u001b[0m\u001b[32mConversational Therapy Agent\u001b[0m\n",
       "        \u001b[37m    Status: \u001b[0m\u001b[1;32m✅ Completed\u001b[0m\n"
      ]
     },
     "metadata": {},
     "output_type": "display_data"
    },
    {
     "data": {
      "text/html": [
       "<pre style=\"white-space:pre;overflow-x:auto;line-height:normal;font-family:Menlo,'DejaVu Sans Mono',consolas,'Courier New',monospace\">\n",
       "</pre>\n"
      ],
      "text/plain": [
       "\n"
      ]
     },
     "metadata": {},
     "output_type": "display_data"
    },
    {
     "data": {
      "text/html": [
       "<pre style=\"white-space:pre;overflow-x:auto;line-height:normal;font-family:Menlo,'DejaVu Sans Mono',consolas,'Courier New',monospace\"><span style=\"color: #008080; text-decoration-color: #008080; font-weight: bold\">🚀 Crew: crew</span>\n",
       "├── <span style=\"color: #008000; text-decoration-color: #008000; font-weight: bold\">📋 Task: 50613427-f8d9-4ecb-a59d-cbd2786b0368</span>\n",
       "│   <span style=\"color: #c0c0c0; text-decoration-color: #c0c0c0\">   Assigned to: </span><span style=\"color: #008000; text-decoration-color: #008000\">Work, study, occupation expert</span>\n",
       "│   <span style=\"color: #c0c0c0; text-decoration-color: #c0c0c0\">   Status: </span><span style=\"color: #008000; text-decoration-color: #008000; font-weight: bold\">✅ Completed</span>\n",
       "│   └── <span style=\"color: #008000; text-decoration-color: #008000; font-weight: bold\">🤖 Agent: </span><span style=\"color: #008000; text-decoration-color: #008000\">Work, study, occupation expert</span>\n",
       "│       <span style=\"color: #c0c0c0; text-decoration-color: #c0c0c0\">    Status: </span><span style=\"color: #008000; text-decoration-color: #008000; font-weight: bold\">✅ Completed</span>\n",
       "└── <span style=\"color: #008000; text-decoration-color: #008000; font-weight: bold\">📋 Task: 8f22663a-eb3e-41e2-beb3-df67448d3b10</span>\n",
       "    <span style=\"color: #c0c0c0; text-decoration-color: #c0c0c0\">   Assigned to: </span><span style=\"color: #008000; text-decoration-color: #008000\">Conversational Therapy Agent</span>\n",
       "    <span style=\"color: #c0c0c0; text-decoration-color: #c0c0c0\">   Status: </span><span style=\"color: #008000; text-decoration-color: #008000; font-weight: bold\">✅ Completed</span>\n",
       "    └── <span style=\"color: #008000; text-decoration-color: #008000; font-weight: bold\">🤖 Agent: </span><span style=\"color: #008000; text-decoration-color: #008000\">Conversational Therapy Agent</span>\n",
       "        <span style=\"color: #c0c0c0; text-decoration-color: #c0c0c0\">    Status: </span><span style=\"color: #008000; text-decoration-color: #008000; font-weight: bold\">✅ Completed</span>\n",
       "</pre>\n"
      ],
      "text/plain": [
       "\u001b[1;36m🚀 Crew: \u001b[0m\u001b[1;36mcrew\u001b[0m\n",
       "├── \u001b[1;32m📋 Task: 50613427-f8d9-4ecb-a59d-cbd2786b0368\u001b[0m\n",
       "│   \u001b[37m   Assigned to: \u001b[0m\u001b[32mWork, study, occupation expert\u001b[0m\n",
       "│   \u001b[37m   Status: \u001b[0m\u001b[1;32m✅ Completed\u001b[0m\n",
       "│   └── \u001b[1;32m🤖 Agent: \u001b[0m\u001b[32mWork, study, occupation expert\u001b[0m\n",
       "│       \u001b[37m    Status: \u001b[0m\u001b[1;32m✅ Completed\u001b[0m\n",
       "└── \u001b[1;32m📋 Task: 8f22663a-eb3e-41e2-beb3-df67448d3b10\u001b[0m\n",
       "    \u001b[37m   Assigned to: \u001b[0m\u001b[32mConversational Therapy Agent\u001b[0m\n",
       "    \u001b[37m   Status: \u001b[0m\u001b[1;32m✅ Completed\u001b[0m\n",
       "    └── \u001b[1;32m🤖 Agent: \u001b[0m\u001b[32mConversational Therapy Agent\u001b[0m\n",
       "        \u001b[37m    Status: \u001b[0m\u001b[1;32m✅ Completed\u001b[0m\n"
      ]
     },
     "metadata": {},
     "output_type": "display_data"
    },
    {
     "data": {
      "text/html": [
       "<pre style=\"white-space:pre;overflow-x:auto;line-height:normal;font-family:Menlo,'DejaVu Sans Mono',consolas,'Courier New',monospace\"><span style=\"color: #008000; text-decoration-color: #008000\">╭──────────────────────────────────────────────── Task Completion ────────────────────────────────────────────────╮</span>\n",
       "<span style=\"color: #008000; text-decoration-color: #008000\">│</span>                                                                                                                 <span style=\"color: #008000; text-decoration-color: #008000\">│</span>\n",
       "<span style=\"color: #008000; text-decoration-color: #008000\">│</span>  <span style=\"color: #008000; text-decoration-color: #008000; font-weight: bold\">Task Completed</span>                                                                                                 <span style=\"color: #008000; text-decoration-color: #008000\">│</span>\n",
       "<span style=\"color: #008000; text-decoration-color: #008000\">│</span>  <span style=\"color: #c0c0c0; text-decoration-color: #c0c0c0\">Name: </span><span style=\"color: #008000; text-decoration-color: #008000\">8f22663a-eb3e-41e2-beb3-df67448d3b10</span>                                                                     <span style=\"color: #008000; text-decoration-color: #008000\">│</span>\n",
       "<span style=\"color: #008000; text-decoration-color: #008000\">│</span>  <span style=\"color: #c0c0c0; text-decoration-color: #c0c0c0\">Agent: </span><span style=\"color: #008000; text-decoration-color: #008000\">Conversational Therapy Agent</span>                                                                            <span style=\"color: #008000; text-decoration-color: #008000\">│</span>\n",
       "<span style=\"color: #008000; text-decoration-color: #008000\">│</span>                                                                                                                 <span style=\"color: #008000; text-decoration-color: #008000\">│</span>\n",
       "<span style=\"color: #008000; text-decoration-color: #008000\">│</span>                                                                                                                 <span style=\"color: #008000; text-decoration-color: #008000\">│</span>\n",
       "<span style=\"color: #008000; text-decoration-color: #008000\">╰─────────────────────────────────────────────────────────────────────────────────────────────────────────────────╯</span>\n",
       "</pre>\n"
      ],
      "text/plain": [
       "\u001b[32m╭─\u001b[0m\u001b[32m───────────────────────────────────────────────\u001b[0m\u001b[32m Task Completion \u001b[0m\u001b[32m───────────────────────────────────────────────\u001b[0m\u001b[32m─╮\u001b[0m\n",
       "\u001b[32m│\u001b[0m                                                                                                                 \u001b[32m│\u001b[0m\n",
       "\u001b[32m│\u001b[0m  \u001b[1;32mTask Completed\u001b[0m                                                                                                 \u001b[32m│\u001b[0m\n",
       "\u001b[32m│\u001b[0m  \u001b[37mName: \u001b[0m\u001b[32m8f22663a-eb3e-41e2-beb3-df67448d3b10\u001b[0m                                                                     \u001b[32m│\u001b[0m\n",
       "\u001b[32m│\u001b[0m  \u001b[37mAgent: \u001b[0m\u001b[32mConversational Therapy Agent\u001b[0m                                                                            \u001b[32m│\u001b[0m\n",
       "\u001b[32m│\u001b[0m                                                                                                                 \u001b[32m│\u001b[0m\n",
       "\u001b[32m│\u001b[0m                                                                                                                 \u001b[32m│\u001b[0m\n",
       "\u001b[32m╰─────────────────────────────────────────────────────────────────────────────────────────────────────────────────╯\u001b[0m\n"
      ]
     },
     "metadata": {},
     "output_type": "display_data"
    },
    {
     "data": {
      "text/html": [
       "<pre style=\"white-space:pre;overflow-x:auto;line-height:normal;font-family:Menlo,'DejaVu Sans Mono',consolas,'Courier New',monospace\">\n",
       "</pre>\n"
      ],
      "text/plain": [
       "\n"
      ]
     },
     "metadata": {},
     "output_type": "display_data"
    },
    {
     "data": {
      "text/html": [
       "<pre style=\"white-space:pre;overflow-x:auto;line-height:normal;font-family:Menlo,'DejaVu Sans Mono',consolas,'Courier New',monospace\"><span style=\"color: #008000; text-decoration-color: #008000\">╭──────────────────────────────────────────────── Crew Completion ────────────────────────────────────────────────╮</span>\n",
       "<span style=\"color: #008000; text-decoration-color: #008000\">│</span>                                                                                                                 <span style=\"color: #008000; text-decoration-color: #008000\">│</span>\n",
       "<span style=\"color: #008000; text-decoration-color: #008000\">│</span>  <span style=\"color: #008000; text-decoration-color: #008000; font-weight: bold\">Crew Execution Completed</span>                                                                                       <span style=\"color: #008000; text-decoration-color: #008000\">│</span>\n",
       "<span style=\"color: #008000; text-decoration-color: #008000\">│</span>  <span style=\"color: #c0c0c0; text-decoration-color: #c0c0c0\">Name: </span><span style=\"color: #008000; text-decoration-color: #008000\">crew</span>                                                                                                     <span style=\"color: #008000; text-decoration-color: #008000\">│</span>\n",
       "<span style=\"color: #008000; text-decoration-color: #008000\">│</span>  <span style=\"color: #c0c0c0; text-decoration-color: #c0c0c0\">ID: </span><span style=\"color: #008000; text-decoration-color: #008000\">d0bc3c02-67b2-4fe2-9635-1a880b46e727</span>                                                                       <span style=\"color: #008000; text-decoration-color: #008000\">│</span>\n",
       "<span style=\"color: #008000; text-decoration-color: #008000\">│</span>                                                                                                                 <span style=\"color: #008000; text-decoration-color: #008000\">│</span>\n",
       "<span style=\"color: #008000; text-decoration-color: #008000\">│</span>                                                                                                                 <span style=\"color: #008000; text-decoration-color: #008000\">│</span>\n",
       "<span style=\"color: #008000; text-decoration-color: #008000\">╰─────────────────────────────────────────────────────────────────────────────────────────────────────────────────╯</span>\n",
       "</pre>\n"
      ],
      "text/plain": [
       "\u001b[32m╭─\u001b[0m\u001b[32m───────────────────────────────────────────────\u001b[0m\u001b[32m Crew Completion \u001b[0m\u001b[32m───────────────────────────────────────────────\u001b[0m\u001b[32m─╮\u001b[0m\n",
       "\u001b[32m│\u001b[0m                                                                                                                 \u001b[32m│\u001b[0m\n",
       "\u001b[32m│\u001b[0m  \u001b[1;32mCrew Execution Completed\u001b[0m                                                                                       \u001b[32m│\u001b[0m\n",
       "\u001b[32m│\u001b[0m  \u001b[37mName: \u001b[0m\u001b[32mcrew\u001b[0m                                                                                                     \u001b[32m│\u001b[0m\n",
       "\u001b[32m│\u001b[0m  \u001b[37mID: \u001b[0m\u001b[32md0bc3c02-67b2-4fe2-9635-1a880b46e727\u001b[0m                                                                       \u001b[32m│\u001b[0m\n",
       "\u001b[32m│\u001b[0m                                                                                                                 \u001b[32m│\u001b[0m\n",
       "\u001b[32m│\u001b[0m                                                                                                                 \u001b[32m│\u001b[0m\n",
       "\u001b[32m╰─────────────────────────────────────────────────────────────────────────────────────────────────────────────────╯\u001b[0m\n"
      ]
     },
     "metadata": {},
     "output_type": "display_data"
    },
    {
     "data": {
      "text/html": [
       "<pre style=\"white-space:pre;overflow-x:auto;line-height:normal;font-family:Menlo,'DejaVu Sans Mono',consolas,'Courier New',monospace\">\n",
       "</pre>\n"
      ],
      "text/plain": [
       "\n"
      ]
     },
     "metadata": {},
     "output_type": "display_data"
    },
    {
     "name": "stdout",
     "output_type": "stream",
     "text": [
      "\n",
      "--- Final Synthesized Response ---\n",
      "\"It's completely understandable that you're feeling tired and struggling with your studies.  Feeling overwhelmed is a very common experience, and it's important to address the contributing factors.  Let's work together to break down these challenges into manageable steps.\n",
      "\n",
      "First, let's explore how you're spending your time.  It sounds like you might be feeling overwhelmed with the workload, so  tracking how you spend your time for a week can help you see where you might be losing efficiency.  What's your typical daily schedule, and what activities are stealing your focus or energy?  Are you setting realistic goals? Identifying the specific distractions, like social media or a noisy environment, is also key.  Journaling about your feelings when studying can help you understand what triggers feelings of tiredness or disinterest.  By understanding your patterns, you can start to implement adjustments.\n",
      "\n",
      "Next, let's examine your study habits.  Using effective techniques, like active recall where you test yourself, and spaced repetition, can significantly improve your retention.  The Pomodoro Technique, working in focused bursts with short breaks, can also be very helpful.  Are you familiar with these techniques or would you like to explore them further? Have you considered finding a quiet study environment to minimize distractions?  We could also explore effective note-taking strategies like the Cornell method or mind mapping, tailored to your specific learning style.\n",
      "\n",
      "Beyond study habits, your overall well-being is crucial.  Getting enough sleep, ideally 7-9 hours, and eating a balanced diet are vital for maintaining energy levels.  Physical exercise can also play a significant role in reducing stress and boosting energy. Are you getting enough exercise?  Are you incorporating strategies to manage stress, such as meditation or deep breathing, into your daily routine?\n",
      "\n",
      "Finally, let's look at your goals and motivation. Are you feeling overwhelmed by the size of your assignments or projects?  Breaking down large tasks into smaller, more manageable steps can make them less daunting.  If the subject matter itself feels uninspiring, it might be helpful to re-evaluate your learning style.  Are you studying in a way that best suits your learning style?  We can also look into whether there is a possible mismatch between your interests and the material.  Remember, consistent effort and self-reflection are key to navigating these challenges.\n",
      "\n",
      "Is there anything specific you'd like to discuss further, or any particular aspect of your study situation that feels particularly challenging right now?  Talking about it can help us identify the most effective next steps.\"\n"
     ]
    }
   ],
   "source": [
    "from crewai import Process\n",
    "\n",
    "# Include the therapy agent PLUS all relevant expert agents\n",
    "all_involved_agents = [therapy_agent] + relevant_agents\n",
    "\n",
    "# The tasks list includes all expert tasks FIRST, then the synthesis task LAST\n",
    "all_tasks = relevant_tasks + [synthesis_task]\n",
    "\n",
    "# Create the crew\n",
    "crew = Crew(\n",
    "    agents=all_involved_agents,\n",
    "    tasks=all_tasks,\n",
    "    process=Process.sequential, # Ensures experts run before the synthesis task due to context dependency\n",
    "    verbose=True\n",
    "    memory=True, # Enable memory\n",
    ")\n",
    "\n",
    "# Kickoff the crew\n",
    "print(\"\\n--- Kicking off the Crew ---\")\n",
    "final_result = crew.kickoff(inputs={'chat': chat}) # Pass inputs if needed by descriptions\n",
    "\n",
    "print(\"\\n--- Final Synthesized Response ---\")\n",
    "print(final_result)\n"
   ]
  },
  {
   "cell_type": "markdown",
   "id": "112c4dc0",
   "metadata": {},
   "source": [
    "### Telegram integration"
   ]
  },
  {
   "cell_type": "code",
   "execution_count": null,
   "id": "35a2edca",
   "metadata": {},
   "outputs": [],
   "source": []
  },
  {
   "cell_type": "markdown",
   "id": "e790a9a5",
   "metadata": {},
   "source": []
  }
 ],
 "metadata": {
  "kernelspec": {
   "display_name": "MindMates",
   "language": "python",
   "name": "python3"
  },
  "language_info": {
   "codemirror_mode": {
    "name": "ipython",
    "version": 3
   },
   "file_extension": ".py",
   "mimetype": "text/x-python",
   "name": "python",
   "nbconvert_exporter": "python",
   "pygments_lexer": "ipython3",
   "version": "3.11.11"
  }
 },
 "nbformat": 4,
 "nbformat_minor": 5
}
